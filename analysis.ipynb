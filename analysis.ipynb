{
 "cells": [
  {
   "cell_type": "code",
   "execution_count": 2,
   "metadata": {},
   "outputs": [],
   "source": [
    "import pandas as pd"
   ]
  },
  {
   "cell_type": "code",
   "execution_count": null,
   "metadata": {},
   "outputs": [],
   "source": [
    "# Check if all my data is available for my specific analysis. \n",
    "df_raw = pd.ExcelFile('2021bisel.xlsx')\n",
    "sheet_names = df_raw.sheet_names[0:12]\n",
    "main_columns = ['PACIENTE' , 'CELULAR', 'CORREO ELECTONICO' ]\n",
    "\n",
    "#Para ver si una lista esta dentro de otra. \n",
    "#De esta forma veo si todas las hojas tinen mi Main Column!\n",
    "set1 = set(main_columns)\n",
    "for i in sheet_names: \n",
    "    df = pd.read_excel('2021bisel.xlsx', i)\n",
    "    print(\"MES: \" , i)\n",
    "    if set1.issubset(set(df.columns)):\n",
    "        print(\"Yes!\")\n",
    "    print('\\n')\n",
    "\n",
    "\n",
    "\n"
   ]
  },
  {
   "cell_type": "code",
   "execution_count": 47,
   "metadata": {},
   "outputs": [
    {
     "name": "stderr",
     "output_type": "stream",
     "text": [
      "/Users/gutembergmendoza/Documents/Python Course/src/Project I/venv/lib/python3.10/site-packages/openpyxl/worksheet/_reader.py:211: UserWarning: Cell A248 is marked as a date but the serial value 6684333 is outside the limits for dates. The cell will be treated as an error.\n",
      "  warn(msg)\n",
      "/Users/gutembergmendoza/Documents/Python Course/src/Project I/venv/lib/python3.10/site-packages/openpyxl/worksheet/_reader.py:211: UserWarning: Cell N248 is marked as a date but the serial value 6684333 is outside the limits for dates. The cell will be treated as an error.\n",
      "  warn(msg)\n",
      "/Users/gutembergmendoza/Documents/Python Course/src/Project I/venv/lib/python3.10/site-packages/openpyxl/worksheet/_reader.py:211: UserWarning: Cell A249 is marked as a date but the serial value 6684333 is outside the limits for dates. The cell will be treated as an error.\n",
      "  warn(msg)\n"
     ]
    }
   ],
   "source": [
    "# Lets filter\n",
    "# names: ene, feb, mar, ... , dic\n",
    "month_names = []\n",
    "for i in sheet_names:\n",
    "    month_names.append(i.lower()[0:3])\n",
    "\n",
    "for i,j in zip(sheet_names, month_names): #iterate throgh to variables\n",
    "    df = pd.read_excel('2021bisel.xlsx', i)\n",
    "    df = df[main_columns].dropna().reset_index(drop=True)\n",
    "    if df.empty: #check if its empty\n",
    "        pass\n",
    "    else:\n",
    "        df.to_excel('datasets/{}.xlsx'.format(j))\n",
    "    \n",
    "\n",
    "\n",
    "\n"
   ]
  }
 ],
 "metadata": {
  "interpreter": {
   "hash": "5e8624dbca7f3a6c181b833e74b08ceb694355b2e909fe7f99447e1683a47994"
  },
  "kernelspec": {
   "display_name": "Python 3.10.0 64-bit ('venv': venv)",
   "name": "python3"
  },
  "language_info": {
   "codemirror_mode": {
    "name": "ipython",
    "version": 3
   },
   "file_extension": ".py",
   "mimetype": "text/x-python",
   "name": "python",
   "nbconvert_exporter": "python",
   "pygments_lexer": "ipython3",
   "version": "3.10.0"
  },
  "orig_nbformat": 4
 },
 "nbformat": 4,
 "nbformat_minor": 2
}
